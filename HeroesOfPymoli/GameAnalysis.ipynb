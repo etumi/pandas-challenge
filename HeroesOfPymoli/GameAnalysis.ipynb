{
 "cells": [
  {
   "cell_type": "code",
   "execution_count": 27,
   "metadata": {},
   "outputs": [],
   "source": [
    "#Dependencies and Setup\n",
    "\n",
    "import pandas as pd\n",
    "import numpy as np\n",
    "from statistics import mean\n",
    "#import statistics\n",
    "\n",
    "fantasy_df = pd.read_csv('Resources/purchase_data.csv')\n",
    "#rename to sales_data"
   ]
  },
  {
   "cell_type": "markdown",
   "metadata": {},
   "source": [
    "# Player Count"
   ]
  },
  {
   "cell_type": "code",
   "execution_count": 28,
   "metadata": {},
   "outputs": [
    {
     "data": {
      "text/html": [
       "<div>\n",
       "<style scoped>\n",
       "    .dataframe tbody tr th:only-of-type {\n",
       "        vertical-align: middle;\n",
       "    }\n",
       "\n",
       "    .dataframe tbody tr th {\n",
       "        vertical-align: top;\n",
       "    }\n",
       "\n",
       "    .dataframe thead th {\n",
       "        text-align: right;\n",
       "    }\n",
       "</style>\n",
       "<table border=\"1\" class=\"dataframe\">\n",
       "  <thead>\n",
       "    <tr style=\"text-align: right;\">\n",
       "      <th></th>\n",
       "      <th>Total Players</th>\n",
       "    </tr>\n",
       "  </thead>\n",
       "  <tbody>\n",
       "    <tr>\n",
       "      <td>0</td>\n",
       "      <td>576</td>\n",
       "    </tr>\n",
       "  </tbody>\n",
       "</table>\n",
       "</div>"
      ],
      "text/plain": [
       "   Total Players\n",
       "0            576"
      ]
     },
     "execution_count": 28,
     "metadata": {},
     "output_type": "execute_result"
    }
   ],
   "source": [
    "player_count = pd.DataFrame([{'Total Players': 0}])\n",
    "num_of_players = len(fantasy_df['SN'].unique())\n",
    "player_count['Total Players'] = num_of_players\n",
    "player_count"
   ]
  },
  {
   "cell_type": "markdown",
   "metadata": {},
   "source": [
    "# Purchasing Analysis (Total)"
   ]
  },
  {
   "cell_type": "code",
   "execution_count": 34,
   "metadata": {},
   "outputs": [
    {
     "data": {
      "text/html": [
       "<div>\n",
       "<style scoped>\n",
       "    .dataframe tbody tr th:only-of-type {\n",
       "        vertical-align: middle;\n",
       "    }\n",
       "\n",
       "    .dataframe tbody tr th {\n",
       "        vertical-align: top;\n",
       "    }\n",
       "\n",
       "    .dataframe thead th {\n",
       "        text-align: right;\n",
       "    }\n",
       "</style>\n",
       "<table border=\"1\" class=\"dataframe\">\n",
       "  <thead>\n",
       "    <tr style=\"text-align: right;\">\n",
       "      <th></th>\n",
       "      <th>Number of Unique Items</th>\n",
       "      <th>Average Price</th>\n",
       "      <th>Number of Purchases</th>\n",
       "      <th>Total Revenue</th>\n",
       "    </tr>\n",
       "  </thead>\n",
       "  <tbody>\n",
       "    <tr>\n",
       "      <td>0</td>\n",
       "      <td>183</td>\n",
       "      <td>$3.04</td>\n",
       "      <td>780</td>\n",
       "      <td>$2,379.77</td>\n",
       "    </tr>\n",
       "  </tbody>\n",
       "</table>\n",
       "</div>"
      ],
      "text/plain": [
       "   Number of Unique Items Average Price  Number of Purchases Total Revenue\n",
       "0                     183         $3.04                  780     $2,379.77"
      ]
     },
     "execution_count": 34,
     "metadata": {},
     "output_type": "execute_result"
    }
   ],
   "source": [
    "purchase_analysis = pd.DataFrame(np.array([[0,0,0,0]]), columns=['Number of Unique Items', 'Average Price', \n",
    "                                          'Number of Purchases', 'Total Revenue'])\n",
    "inventory_df = pd.DataFrame(fantasy_df[['Item ID','Item Name', 'Price']].drop_duplicates(['Item ID']))\n",
    "purchase_analysis['Number of Unique Items'] = len(inventory_df)\n",
    "purchase_analysis['Average Price'] = mean(list(inventory_df['Price']))\n",
    "purchase_analysis['Average Price'] = purchase_analysis['Average Price'].map(\"${:,.2f}\".format)\n",
    "purchase_analysis['Number of Purchases'] = len(fantasy_df['Item ID'])\n",
    "purchase_analysis['Total Revenue'] = fantasy_df['Price'].sum()\n",
    "purchase_analysis['Total Revenue'] = purchase_analysis['Total Revenue'].map(\"${:,.2f}\".format)\n",
    "purchase_analysis"
   ]
  },
  {
   "cell_type": "markdown",
   "metadata": {},
   "source": [
    "# Gender Demographics"
   ]
  },
  {
   "cell_type": "code",
   "execution_count": 46,
   "metadata": {},
   "outputs": [
    {
     "data": {
      "text/html": [
       "<div>\n",
       "<style scoped>\n",
       "    .dataframe tbody tr th:only-of-type {\n",
       "        vertical-align: middle;\n",
       "    }\n",
       "\n",
       "    .dataframe tbody tr th {\n",
       "        vertical-align: top;\n",
       "    }\n",
       "\n",
       "    .dataframe thead th {\n",
       "        text-align: right;\n",
       "    }\n",
       "</style>\n",
       "<table border=\"1\" class=\"dataframe\">\n",
       "  <thead>\n",
       "    <tr style=\"text-align: right;\">\n",
       "      <th></th>\n",
       "      <th>Total Count</th>\n",
       "      <th>Percentage of Players (%)</th>\n",
       "    </tr>\n",
       "  </thead>\n",
       "  <tbody>\n",
       "    <tr>\n",
       "      <td>Male</td>\n",
       "      <td>484</td>\n",
       "      <td>84.03</td>\n",
       "    </tr>\n",
       "    <tr>\n",
       "      <td>Female</td>\n",
       "      <td>81</td>\n",
       "      <td>14.06</td>\n",
       "    </tr>\n",
       "    <tr>\n",
       "      <td>Other / Non-Disclosed</td>\n",
       "      <td>11</td>\n",
       "      <td>1.91</td>\n",
       "    </tr>\n",
       "  </tbody>\n",
       "</table>\n",
       "</div>"
      ],
      "text/plain": [
       "                       Total Count  Percentage of Players (%)\n",
       "Male                           484                      84.03\n",
       "Female                          81                      14.06\n",
       "Other / Non-Disclosed           11                       1.91"
      ]
     },
     "execution_count": 46,
     "metadata": {},
     "output_type": "execute_result"
    }
   ],
   "source": [
    "gender_demo = fantasy_df.drop_duplicates(['SN'])\n",
    "gender_demo = pd.DataFrame(gender_demo['Gender'].value_counts())\n",
    "gender_demo = gender_demo.rename(columns={'Gender': 'Total Count'})\n",
    "gender_demo['Percentage of Players (%)'] = round((gender_demo['Total Count']/num_of_players)*100,2)\n",
    "gender_demo"
   ]
  },
  {
   "cell_type": "markdown",
   "metadata": {},
   "source": [
    "# Purchasing Analysis (Gender)"
   ]
  },
  {
   "cell_type": "code",
   "execution_count": 73,
   "metadata": {},
   "outputs": [
    {
     "data": {
      "text/html": [
       "<div>\n",
       "<style scoped>\n",
       "    .dataframe tbody tr th:only-of-type {\n",
       "        vertical-align: middle;\n",
       "    }\n",
       "\n",
       "    .dataframe tbody tr th {\n",
       "        vertical-align: top;\n",
       "    }\n",
       "\n",
       "    .dataframe thead th {\n",
       "        text-align: right;\n",
       "    }\n",
       "</style>\n",
       "<table border=\"1\" class=\"dataframe\">\n",
       "  <thead>\n",
       "    <tr style=\"text-align: right;\">\n",
       "      <th></th>\n",
       "      <th>Number of Purchases</th>\n",
       "      <th>Total Revenue</th>\n",
       "      <th>Average Price</th>\n",
       "      <th>Avg Total Purchase Per Person</th>\n",
       "    </tr>\n",
       "    <tr>\n",
       "      <th>Gender</th>\n",
       "      <th></th>\n",
       "      <th></th>\n",
       "      <th></th>\n",
       "      <th></th>\n",
       "    </tr>\n",
       "  </thead>\n",
       "  <tbody>\n",
       "    <tr>\n",
       "      <td>Female</td>\n",
       "      <td>113</td>\n",
       "      <td>$361.94</td>\n",
       "      <td>$3.11</td>\n",
       "      <td>$4.47</td>\n",
       "    </tr>\n",
       "    <tr>\n",
       "      <td>Male</td>\n",
       "      <td>652</td>\n",
       "      <td>$1,967.64</td>\n",
       "      <td>$3.04</td>\n",
       "      <td>$4.07</td>\n",
       "    </tr>\n",
       "    <tr>\n",
       "      <td>Other / Non-Disclosed</td>\n",
       "      <td>15</td>\n",
       "      <td>$50.19</td>\n",
       "      <td>$3.31</td>\n",
       "      <td>$4.56</td>\n",
       "    </tr>\n",
       "  </tbody>\n",
       "</table>\n",
       "</div>"
      ],
      "text/plain": [
       "                       Number of Purchases Total Revenue Average Price  \\\n",
       "Gender                                                                   \n",
       "Female                                 113       $361.94         $3.11   \n",
       "Male                                   652     $1,967.64         $3.04   \n",
       "Other / Non-Disclosed                   15        $50.19         $3.31   \n",
       "\n",
       "                      Avg Total Purchase Per Person  \n",
       "Gender                                               \n",
       "Female                                        $4.47  \n",
       "Male                                          $4.07  \n",
       "Other / Non-Disclosed                         $4.56  "
      ]
     },
     "execution_count": 73,
     "metadata": {},
     "output_type": "execute_result"
    }
   ],
   "source": [
    "purchase_analysis = fantasy_df.groupby('Gender').agg({'Item ID': 'count', 'Price': ['sum', lambda x: round(x.unique().mean(),2)]})\n",
    "purchase_analysis.columns = purchase_analysis.columns.droplevel(level=1)\n",
    "\n",
    "#average purchase by person by gender\n",
    "purchase_analysis2 = fantasy_df.groupby(['Gender', 'SN']).agg({'Item ID': 'count', 'Price': 'sum'})\n",
    "purchase_analysis2 = purchase_analysis2.groupby('Gender').agg(\n",
    "    Avg_Purchase_Tot = pd.NamedAgg(column = 'Price', aggfunc= lambda x: round(mean(x),2))\n",
    ")\n",
    "\n",
    "#final summary\n",
    "purchase_analysis_gender = purchase_analysis.join(purchase_analysis2)\n",
    "\n",
    "#rename columns\n",
    "purchase_analysis_gender.columns = ['Number of Purchases', 'Total Revenue', 'Average Price', 'Avg Total Purchase Per Person']\n",
    "\n",
    "#format columns\n",
    "purchase_analysis_gender['Total Revenue'] = purchase_analysis_gender['Total Revenue'].map(\"${:,.2f}\".format)\n",
    "purchase_analysis_gender['Average Price'] = purchase_analysis_gender['Average Price'].map(\"${:,.2f}\".format)\n",
    "purchase_analysis_gender['Avg Total Purchase Per Person'] = purchase_analysis_gender['Avg Total Purchase Per Person'].map(\"${:,.2f}\".format)\n",
    "purchase_analysis_gender"
   ]
  },
  {
   "cell_type": "markdown",
   "metadata": {},
   "source": [
    "# Age Demographics"
   ]
  },
  {
   "cell_type": "code",
   "execution_count": 74,
   "metadata": {},
   "outputs": [
    {
     "data": {
      "text/html": [
       "<div>\n",
       "<style scoped>\n",
       "    .dataframe tbody tr th:only-of-type {\n",
       "        vertical-align: middle;\n",
       "    }\n",
       "\n",
       "    .dataframe tbody tr th {\n",
       "        vertical-align: top;\n",
       "    }\n",
       "\n",
       "    .dataframe thead th {\n",
       "        text-align: right;\n",
       "    }\n",
       "</style>\n",
       "<table border=\"1\" class=\"dataframe\">\n",
       "  <thead>\n",
       "    <tr style=\"text-align: right;\">\n",
       "      <th></th>\n",
       "      <th>Number of Purchases</th>\n",
       "      <th>Total Revenue</th>\n",
       "      <th>Average Price</th>\n",
       "    </tr>\n",
       "    <tr>\n",
       "      <th>Age Group</th>\n",
       "      <th></th>\n",
       "      <th></th>\n",
       "      <th></th>\n",
       "    </tr>\n",
       "  </thead>\n",
       "  <tbody>\n",
       "    <tr>\n",
       "      <td>&lt;10</td>\n",
       "      <td>32</td>\n",
       "      <td>108.96</td>\n",
       "      <td>3.41</td>\n",
       "    </tr>\n",
       "    <tr>\n",
       "      <td>10-14</td>\n",
       "      <td>19</td>\n",
       "      <td>50.95</td>\n",
       "      <td>2.77</td>\n",
       "    </tr>\n",
       "    <tr>\n",
       "      <td>15-18</td>\n",
       "      <td>113</td>\n",
       "      <td>342.91</td>\n",
       "      <td>2.99</td>\n",
       "    </tr>\n",
       "    <tr>\n",
       "      <td>19-22</td>\n",
       "      <td>254</td>\n",
       "      <td>771.89</td>\n",
       "      <td>3.03</td>\n",
       "    </tr>\n",
       "    <tr>\n",
       "      <td>23-26</td>\n",
       "      <td>207</td>\n",
       "      <td>634.24</td>\n",
       "      <td>3.12</td>\n",
       "    </tr>\n",
       "    <tr>\n",
       "      <td>27-30</td>\n",
       "      <td>63</td>\n",
       "      <td>181.23</td>\n",
       "      <td>2.88</td>\n",
       "    </tr>\n",
       "    <tr>\n",
       "      <td>31-34</td>\n",
       "      <td>38</td>\n",
       "      <td>103.68</td>\n",
       "      <td>2.75</td>\n",
       "    </tr>\n",
       "    <tr>\n",
       "      <td>35-38</td>\n",
       "      <td>35</td>\n",
       "      <td>124.35</td>\n",
       "      <td>3.50</td>\n",
       "    </tr>\n",
       "    <tr>\n",
       "      <td>39-42</td>\n",
       "      <td>15</td>\n",
       "      <td>50.50</td>\n",
       "      <td>3.37</td>\n",
       "    </tr>\n",
       "    <tr>\n",
       "      <td>43-46</td>\n",
       "      <td>4</td>\n",
       "      <td>11.06</td>\n",
       "      <td>2.76</td>\n",
       "    </tr>\n",
       "    <tr>\n",
       "      <td>47-50</td>\n",
       "      <td>0</td>\n",
       "      <td>0.00</td>\n",
       "      <td>0.00</td>\n",
       "    </tr>\n",
       "  </tbody>\n",
       "</table>\n",
       "</div>"
      ],
      "text/plain": [
       "           Number of Purchases  Total Revenue  Average Price\n",
       "Age Group                                                   \n",
       "<10                         32         108.96           3.41\n",
       "10-14                       19          50.95           2.77\n",
       "15-18                      113         342.91           2.99\n",
       "19-22                      254         771.89           3.03\n",
       "23-26                      207         634.24           3.12\n",
       "27-30                       63         181.23           2.88\n",
       "31-34                       38         103.68           2.75\n",
       "35-38                       35         124.35           3.50\n",
       "39-42                       15          50.50           3.37\n",
       "43-46                        4          11.06           2.76\n",
       "47-50                        0           0.00           0.00"
      ]
     },
     "execution_count": 74,
     "metadata": {},
     "output_type": "execute_result"
    }
   ],
   "source": [
    "#select buckets for age grouping\n",
    "bins = [0, 10, 14, 18, 22, 26, 30, 34, 38, 42, 46, 50]\n",
    "labels = [\"<10\", \"10-14\", \"15-18\", \"19-22\", \"23-26\", \"27-30\", \"31-34\", \"35-38\", \"39-42\", \"43-46\", \"47-50\"]\n",
    "fantasy_df['Age Group'] = pd.cut(fantasy_df['Age'], bins, labels=labels)\n",
    "\n",
    "\n",
    "age_demo = fantasy_df.groupby('Age Group').agg({'Item ID': 'count','Price': ['sum', lambda x: round(x.unique().mean(),2)]})\n",
    "age_demo.columns = age_demo.columns.droplevel(level=1)\n",
    "age_demo['Price'].fillna(0)\n",
    "\n",
    "#rename columns\n",
    "age_demo.columns = ['Number of Purchases', 'Total Revenue', 'Average Price']\n",
    "age_demo['Average Price'] = age_demo['Average Price'].fillna(0)\n",
    "\n",
    "age_demo"
   ]
  },
  {
   "cell_type": "markdown",
   "metadata": {},
   "source": [
    "# Top Spenders"
   ]
  },
  {
   "cell_type": "code",
   "execution_count": null,
   "metadata": {},
   "outputs": [],
   "source": []
  }
 ],
 "metadata": {
  "kernelspec": {
   "display_name": "Python 3",
   "language": "python",
   "name": "python3"
  },
  "language_info": {
   "codemirror_mode": {
    "name": "ipython",
    "version": 3
   },
   "file_extension": ".py",
   "mimetype": "text/x-python",
   "name": "python",
   "nbconvert_exporter": "python",
   "pygments_lexer": "ipython3",
   "version": "3.7.4"
  }
 },
 "nbformat": 4,
 "nbformat_minor": 4
}
